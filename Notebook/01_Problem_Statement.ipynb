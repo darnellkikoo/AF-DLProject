{
  "nbformat": 4,
  "nbformat_minor": 0,
  "metadata": {
    "colab": {
      "name": "01-Problem-Statement",
      "provenance": []
    },
    "kernelspec": {
      "name": "python3",
      "display_name": "Python 3"
    },
    "language_info": {
      "name": "python"
    }
  },
  "cells": [
    {
      "cell_type": "markdown",
      "metadata": {
        "id": "e4p_4Uui_huB"
      },
      "source": [
        "# Problem Statement\n"
      ]
    },
    {
      "cell_type": "markdown",
      "metadata": {
        "id": "nxSLGKrD_n0A"
      },
      "source": [
        "## Context\n",
        "\n",
        "Tuberculosis is one of the most deadly lung disease in the world, and mainly found in developing countries. It is caused by a bacterium called Mycobacterium Tuberculosis. In developed countries, many radiological expertise still inaccurately assessing the X-ray images, missing out patients who were actually affected by the bacteria, and it also took a long time to manually assess them.\n",
        "\n",
        "While treatment is possible for its patients, quick diagnosis using the X-Ray images for each patient would be beneficial for both patient and doctors in terms of time. Creating a classifier model which could predict various conditions from each X-Ray images.\n",
        "\n",
        "The aim of this project is creating a reliable classifier neural network which can classify a person's lung condition through its X-Ray scan."
      ]
    },
    {
      "cell_type": "markdown",
      "metadata": {
        "id": "KC-133rNmnLi"
      },
      "source": [
        "## Business Objective"
      ]
    },
    {
      "cell_type": "markdown",
      "metadata": {
        "id": "8Ic2nd0Emr6f"
      },
      "source": [
        "The business objective of this project is to help the doctors in increasing their scoring and reduce the time wasted when assessing patient's lung condition."
      ]
    },
    {
      "cell_type": "markdown",
      "metadata": {
        "id": "dzzPbL-tpHhm"
      },
      "source": [
        "## Output"
      ]
    },
    {
      "cell_type": "markdown",
      "metadata": {
        "id": "WNc9wrxlpIvi"
      },
      "source": [
        "The output of this project is the predicted Class of the patients lung's condition, wheter they are affected or not by tuberculosis, given their Lung X-Ray images."
      ]
    },
    {
      "cell_type": "markdown",
      "metadata": {
        "id": "BJNCFXVOpX3B"
      },
      "source": [
        "## Deep Learning"
      ]
    },
    {
      "cell_type": "markdown",
      "metadata": {
        "id": "95QP8-06pbK_"
      },
      "source": [
        "This project will be using a pretrained model ResNet50 V2 architecture, with Dense layers added for better performance."
      ]
    },
    {
      "cell_type": "markdown",
      "metadata": {
        "id": "obHWgh3UqcBS"
      },
      "source": [
        "## Performance Measure"
      ]
    },
    {
      "cell_type": "markdown",
      "metadata": {
        "id": "BViEQgktqeS3"
      },
      "source": [
        "To measure the performance of our classification model, we will use Accuracy, AUC and Recall (main metric). We use recall as the main metric to reduce any False Negative prediction from our model."
      ]
    },
    {
      "cell_type": "markdown",
      "metadata": {
        "id": "tyaUPmy_q2DQ"
      },
      "source": [
        "# Acknowledgement\n",
        "\n",
        "The two datasets were published together in an analysis here: [Click Here](https://www.ncbi.nlm.nih.gov/pmc/articles/PMC4256233/).\n",
        "\n",
        "The datasets come from Shenzhen and Montgomery respectively."
      ]
    }
  ]
}